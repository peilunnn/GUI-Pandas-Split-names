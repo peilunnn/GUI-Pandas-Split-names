{
 "cells": [
  {
   "cell_type": "code",
   "execution_count": 95,
   "metadata": {
    "ExecuteTime": {
     "end_time": "2020-05-01T08:34:14.979413Z",
     "start_time": "2020-05-01T08:34:14.840013Z"
    }
   },
   "outputs": [
    {
     "name": "stderr",
     "output_type": "stream",
     "text": [
      "C:\\Users\\admin\\Anaconda3\\lib\\site-packages\\ipykernel_launcher.py:24: FutureWarning: Sorting because non-concatenation axis is not aligned. A future version\n",
      "of pandas will change to not sort by default.\n",
      "\n",
      "To accept the future behavior, pass 'sort=False'.\n",
      "\n",
      "To retain the current behavior and silence the warning, pass 'sort=True'.\n",
      "\n"
     ]
    }
   ],
   "source": [
    "import pandas as pd\n",
    "\n",
    "# CONVERT UNIFIED PAYMENTS CSV TO DF\n",
    "df_payments = pd.read_csv('unified_payments.csv')\n",
    "\n",
    "# DROP DUPLICATES\n",
    "df_paymentsnoduplicates = df_payments.drop_duplicates(subset='Card Name',keep='first')\n",
    "\n",
    "# KEEP ONLY THE CARD NAME AND CUSTOMER EMAIL COLUMNS\n",
    "df_payments_2col = df_paymentsnoduplicates[['Card Name','Customer Email']]\n",
    "\n",
    "# FILTER OUT NAMES OF LENGTH 1\n",
    "df_payments_len1 = df_payments_2col[df_payments_2col['Card Name'].str.split(' ').str.len() == 1]\n",
    "\n",
    "# FILTER OUT NAMES OF LENGTH 2\n",
    "df_payments_len2.loc[df_payments_2col['Card Name'].str.split().str.len() == 2, 'First Name'] = df_payments_2col['Card Name'].str.split().str[0]\n",
    "df_payments_len2.loc[df_payments_2col['Card Name'].str.split().str.len() == 2, 'Last Name'] = df_payments_2col['Card Name'].str.split().str[-1]\n",
    "\n",
    "# FILTER OUT NAMES OF LENGTH 3\n",
    "df_payments_len3.loc[df_payments_2col['Card Name'].str.split().str.len() == 3, 'First Name'] = df_payments_2col['Card Name'].str.split().str[1:]\n",
    "df_payments_len3.loc[df_payments_2col['Card Name'].str.split().str.len() == 3, 'Last Name'] = df_payments_2col['Card Name'].str.split().str[0]\n",
    "\n",
    "# MERGE THE 3 DATAFRAMES\n",
    "df_payments_allfiltered = pd.concat([df_payments_len1,df_payments_len2,df_payments_len3])\n",
    "\n",
    "# CONVERT MERGED DF TO EXCEL\n",
    "writer = pd.ExcelWriter('df_payments_allfiltered.xlsx', engine='xlsxwriter')\n",
    "df_payments_allfiltered.to_excel(writer, sheet_name='Sheet1')\n",
    "writer.save()"
   ]
  }
 ],
 "metadata": {
  "kernelspec": {
   "display_name": "Python 3",
   "language": "python",
   "name": "python3"
  },
  "language_info": {
   "codemirror_mode": {
    "name": "ipython",
    "version": 3
   },
   "file_extension": ".py",
   "mimetype": "text/x-python",
   "name": "python",
   "nbconvert_exporter": "python",
   "pygments_lexer": "ipython3",
   "version": "3.7.1"
  },
  "toc": {
   "base_numbering": 1,
   "nav_menu": {},
   "number_sections": true,
   "sideBar": true,
   "skip_h1_title": false,
   "title_cell": "Table of Contents",
   "title_sidebar": "Contents",
   "toc_cell": false,
   "toc_position": {},
   "toc_section_display": true,
   "toc_window_display": false
  },
  "varInspector": {
   "cols": {
    "lenName": 16,
    "lenType": 16,
    "lenVar": 40
   },
   "kernels_config": {
    "python": {
     "delete_cmd_postfix": "",
     "delete_cmd_prefix": "del ",
     "library": "var_list.py",
     "varRefreshCmd": "print(var_dic_list())"
    },
    "r": {
     "delete_cmd_postfix": ") ",
     "delete_cmd_prefix": "rm(",
     "library": "var_list.r",
     "varRefreshCmd": "cat(var_dic_list()) "
    }
   },
   "types_to_exclude": [
    "module",
    "function",
    "builtin_function_or_method",
    "instance",
    "_Feature"
   ],
   "window_display": false
  }
 },
 "nbformat": 4,
 "nbformat_minor": 2
}
